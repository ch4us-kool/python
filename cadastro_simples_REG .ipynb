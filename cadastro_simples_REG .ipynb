{
 "cells": [
  {
   "cell_type": "code",
   "execution_count": 17,
   "metadata": {},
   "outputs": [],
   "source": [
    "lista_nome = {}\n",
    "lista_apelido = {}\n",
    "lista_idade = {}\n",
    "lista_visita = {0:0}  # registo"
   ]
  },
  {
   "cell_type": "code",
   "execution_count": 3,
   "metadata": {},
   "outputs": [],
   "source": [
    "def menu():  # Menu\n",
    "    print ('\\n1-Cadastro | 2-Remover | 3-Editar | 4-Exibir | 5-Apagar Tudo | 6-Salvar | 7-Sair\\n')"
   ]
  },
  {
   "cell_type": "code",
   "execution_count": 18,
   "metadata": {},
   "outputs": [],
   "source": [
    "#def leitura(caminho):\n",
    "    #arquivo = open(caminho, 'r', encoding=\"utf8\")\n",
    "    # with open(caminho, 'r', encoding=\"utf8\") as arquivo"
   ]
  },
  {
   "cell_type": "code",
   "execution_count": 8,
   "metadata": {},
   "outputs": [],
   "source": [
    "def gravacao(reg, nome, apelido, idade):  #  Cadastro !! Opção 1 validar se existe key no campo\n",
    "    for i in list(lista_visita.values()):\n",
    "        var = i + 1  # contador de visita\n",
    "        lista_nome.update({reg:nome})\n",
    "        lista_apelido.update({reg:apelido})\n",
    "        lista_idade.update({reg:idade})\n",
    "        lista_visita.update({reg:var})  # contador de visita"
   ]
  },
  {
   "cell_type": "code",
   "execution_count": 58,
   "metadata": {},
   "outputs": [
    {
     "name": "stdout",
     "output_type": "stream",
     "text": [
      "\n",
      "\n",
      "Registro: 11\n",
      "Nome: lele\n",
      "Apelido: leandro\n",
      "Idade: 30\n",
      "__________________\n",
      "\n",
      "\n"
     ]
    }
   ],
   "source": [
    "def exibir():\n",
    "    nome_key = list(lista_nome.keys())\n",
    "    nome_val = list(lista_nome.values())\n",
    "    apelido_key = list(lista_apelido.keys())\n",
    "    apelido_val = list(lista_apelido.values())\n",
    "    idade_key = list(lista_idade.keys())\n",
    "    idade_val = list(lista_idade.values())\n",
    "  \n",
    "    for i in lista_visita.keys():  # percorre a quantidade de registro criado no DICT\n",
    "       \n",
    "        try:\n",
    "            con_nome = nome_key.index(i)\n",
    "            con_apelido = apelido_key.index(i)\n",
    "            con_idade = idade_key.index(i)\n",
    "            print('\\nRegistro:',i)\n",
    "            print('Nome:', nome_val[con_nome])\n",
    "            print('Apelido:', apelido_val[con_apelido])\n",
    "            print('Idade:', idade_val[con_idade])\n",
    "            print('__________________\\n')\n",
    "            i = i + 1\n",
    "                \n",
    "        except:\n",
    "            print(\"\")\n",
    "            \n",
    "                    \n",
    "exibir()\n",
    "\n",
    "# erro quando não encontra valor no dict"
   ]
  },
  {
   "cell_type": "code",
   "execution_count": 47,
   "metadata": {},
   "outputs": [],
   "source": [
    "def limpar():\n",
    "    valid = int(input('Deseja Limpar Tudo?  1-SIM | 2-NÂO: '))\n",
    "    if valid == 1:\n",
    "        lista_nome.clear()\n",
    "        lista_apelido.clear()\n",
    "        lista_idade.clear()\n",
    "        lista_visita.clear()\n",
    "        lista_visita.update({0:0})\n",
    "        print('Limpo!')\n",
    "    else:\n",
    "        print('º~º')"
   ]
  },
  {
   "cell_type": "code",
   "execution_count": 35,
   "metadata": {},
   "outputs": [],
   "source": [
    "def edicao(registro):    # OP 3\n",
    "    nome_key = list(lista_nome.keys())  #Key\n",
    "    nome_val = list(lista_nome.values())\n",
    "    apelido_key = list(lista_apelido.keys())  #Key\n",
    "    apelido_val = list(lista_apelido.values())\n",
    "    idade_key = list(lista_idade.keys())  #Key\n",
    "    idade_val = list(lista_idade.values())\n",
    "    \n",
    "    con_nome = nome_key.index(registro)\n",
    "    con_apelido = apelido_key.index(registro)\n",
    "    con_idade = idade_key.index(registro)\n",
    "    \n",
    "    print('\\nRegistro:',registro,'\\n')\n",
    "    print('Nome:', nome_val[con_nome])\n",
    "    print('Apelido:', apelido_val[con_apelido])\n",
    "    print('Idade:', idade_val[con_idade])\n",
    "    \n",
    "    valor = int(input('\\t1-Nome | 2-Apelido | 3-Idade | 4-Sair\\nOpcao: '))\n",
    "    \n",
    "    if valor == 1:\n",
    "        ed_nome = input('Nome: ')\n",
    "        lista_nome.update({registro:ed_nome})\n",
    "        print('\\nValor atualizado')\n",
    "        \n",
    "    elif valor == 2:\n",
    "        ed_apelido = input('Apelido: ')\n",
    "        lista_apelido.update({registro:ed_apelido})\n",
    "        print('\\nValor atualizado')\n",
    "        \n",
    "    elif valor == 3:\n",
    "        ed_idade = input('Idade: ')\n",
    "        lista_idade.update({registro:ed_idade})\n",
    "        print('\\nValor atualizado')\n",
    "            \n",
    "    elif valor == 4:\n",
    "        pass\n",
    "        \n",
    "    else:\n",
    "        print('Opçao invalida')\n",
    "    "
   ]
  },
  {
   "cell_type": "code",
   "execution_count": 68,
   "metadata": {},
   "outputs": [],
   "source": [
    "def remover(registro):       # OP 2          -------  verificar\n",
    "    print(registro)\n",
    "    lista_nome.pop(registro)  #Key\n",
    "    lista_apelido.pop(registro)\n",
    "    lista_idade.pop(registro)\n",
    "    lista_visita.pop(registro)"
   ]
  },
  {
   "cell_type": "code",
   "execution_count": 75,
   "metadata": {},
   "outputs": [
    {
     "name": "stdout",
     "output_type": "stream",
     "text": [
      "12\n"
     ]
    },
    {
     "ename": "KeyError",
     "evalue": "12",
     "output_type": "error",
     "traceback": [
      "\u001b[1;31m---------------------------------------------------------------------------\u001b[0m",
      "\u001b[1;31mKeyError\u001b[0m                                  Traceback (most recent call last)",
      "Input \u001b[1;32mIn [75]\u001b[0m, in \u001b[0;36m<cell line: 1>\u001b[1;34m()\u001b[0m\n\u001b[1;32m----> 1\u001b[0m \u001b[43mremover\u001b[49m\u001b[43m(\u001b[49m\u001b[38;5;241;43m12\u001b[39;49m\u001b[43m)\u001b[49m\n",
      "Input \u001b[1;32mIn [68]\u001b[0m, in \u001b[0;36mremover\u001b[1;34m(registro)\u001b[0m\n\u001b[0;32m      1\u001b[0m \u001b[38;5;28;01mdef\u001b[39;00m \u001b[38;5;21mremover\u001b[39m(registro):       \u001b[38;5;66;03m# OP 2          -------  verificar\u001b[39;00m\n\u001b[0;32m      2\u001b[0m     \u001b[38;5;28mprint\u001b[39m(registro)\n\u001b[1;32m----> 3\u001b[0m     \u001b[43mlista_nome\u001b[49m\u001b[38;5;241;43m.\u001b[39;49m\u001b[43mpop\u001b[49m\u001b[43m(\u001b[49m\u001b[43mregistro\u001b[49m\u001b[43m)\u001b[49m  \u001b[38;5;66;03m#Key\u001b[39;00m\n\u001b[0;32m      4\u001b[0m     lista_apelido\u001b[38;5;241m.\u001b[39mpop(registro)\n\u001b[0;32m      5\u001b[0m     lista_idade\u001b[38;5;241m.\u001b[39mpop(registro)\n",
      "\u001b[1;31mKeyError\u001b[0m: 12"
     ]
    }
   ],
   "source": [
    "remover(12)"
   ]
  },
  {
   "cell_type": "code",
   "execution_count": 72,
   "metadata": {},
   "outputs": [
    {
     "name": "stdout",
     "output_type": "stream",
     "text": [
      "0\n",
      "11\n"
     ]
    }
   ],
   "source": [
    "for i in lista_visita.keys():\n",
    "    print(i)"
   ]
  },
  {
   "cell_type": "code",
   "execution_count": null,
   "metadata": {},
   "outputs": [],
   "source": []
  },
  {
   "cell_type": "code",
   "execution_count": null,
   "metadata": {},
   "outputs": [],
   "source": [
    "def salvar(lista, arq):     #  OP 6             -------  verificar\n",
    "    arq += '.txt'\n",
    "    with open(arq, 'w') as arquivo:\n",
    "        for i in lista:\n",
    "            arquivo.write(str(i))\n",
    "        print('\\nArquivo Salvo\\n')"
   ]
  },
  {
   "cell_type": "code",
   "execution_count": 51,
   "metadata": {},
   "outputs": [
    {
     "name": "stdout",
     "output_type": "stream",
     "text": [
      "\n",
      "1-Cadastro | 2-Remover | 3-Editar | 4-Exibir | 5-Apagar Tudo | 6-Salvar | 7-Sair\n",
      "\n",
      "Opcao: 4\n",
      "\n",
      "\n",
      "1-Cadastro | 2-Remover | 3-Editar | 4-Exibir | 5-Apagar Tudo | 6-Salvar | 7-Sair\n",
      "\n",
      "Opcao: 1\n",
      "\n",
      "Cadastro: \n",
      "\n",
      "Registro: 11\n",
      "Nome: leandro\n",
      "Apelido: lele\n",
      "Idade: 28\n",
      "\n",
      "1-Cadastro | 2-Remover | 3-Editar | 4-Exibir | 5-Apagar Tudo | 6-Salvar | 7-Sair\n",
      "\n",
      "Opcao: 1\n",
      "\n",
      "Cadastro: \n",
      "\n",
      "Registro: 11\n",
      "Nome: lele\n",
      "Apelido: leandro\n",
      "Idade: 30\n",
      "\n",
      "1-Cadastro | 2-Remover | 3-Editar | 4-Exibir | 5-Apagar Tudo | 6-Salvar | 7-Sair\n",
      "\n",
      "Opcao: 4\n",
      "\n",
      "\n",
      "Registro: 11\n",
      "Nome: lele\n",
      "Apelido: leandro\n",
      "Idade: 30\n",
      "__________________\n",
      "\n",
      "\n",
      "\n",
      "1-Cadastro | 2-Remover | 3-Editar | 4-Exibir | 5-Apagar Tudo | 6-Salvar | 7-Sair\n",
      "\n",
      "Opcao: 7\n"
     ]
    }
   ],
   "source": [
    "vv = True\n",
    "while vv:\n",
    "    menu()\n",
    "    opcao = (int(input('Opcao: ')))\n",
    "    \n",
    "    if opcao == 1:  # Cadastro\n",
    "        print('\\nCadastro: \\n')\n",
    "        gravacao(input('Registro: '), input('Nome: '), input('Apelido: '), input('Idade: '))\n",
    "            \n",
    "    elif opcao == 2:  # Remover da lista  pendete\n",
    "        exibir()\n",
    "        remover(input('Remover: '))\n",
    "\n",
    "    elif opcao == 3: # Editar valor da lista  OK\n",
    "        edicao(int(input('Registro: ')))\n",
    "\n",
    "    elif opcao == 4:   # exibe lista  OK\n",
    "        exibir()\n",
    "\n",
    "    elif opcao == 5:    # limpa lista  OK\n",
    "        limpar()\n",
    "        \n",
    "    elif opcao == 6:   # Salvar Documentos cria o arquivo .txt   *** pendete\n",
    "        salvar(input('Novo do arquivo: '))\n",
    "        \n",
    "    elif opcao == 8:   # abrindo arquivo txt       ***   pendete\n",
    "        print('tetse')\n",
    "        \n",
    "    elif opcao == 7:   # sair do laço\n",
    "        vv = False\n",
    "        \n",
    "    else:\n",
    "        print('\\nSelecione uma opção valida!')\n",
    "        \n",
    "        "
   ]
  },
  {
   "cell_type": "code",
   "execution_count": null,
   "metadata": {},
   "outputs": [],
   "source": []
  },
  {
   "cell_type": "raw",
   "metadata": {},
   "source": []
  },
  {
   "cell_type": "code",
   "execution_count": null,
   "metadata": {},
   "outputs": [],
   "source": []
  },
  {
   "cell_type": "code",
   "execution_count": null,
   "metadata": {},
   "outputs": [],
   "source": []
  }
 ],
 "metadata": {
  "kernelspec": {
   "display_name": "Python 3 (ipykernel)",
   "language": "python",
   "name": "python3"
  },
  "language_info": {
   "codemirror_mode": {
    "name": "ipython",
    "version": 3
   },
   "file_extension": ".py",
   "mimetype": "text/x-python",
   "name": "python",
   "nbconvert_exporter": "python",
   "pygments_lexer": "ipython3",
   "version": "3.9.12"
  }
 },
 "nbformat": 4,
 "nbformat_minor": 2
}

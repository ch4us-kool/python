{
 "cells": [
  {
   "cell_type": "code",
   "execution_count": 1,
   "metadata": {},
   "outputs": [],
   "source": [
    "import os\n",
    "import re"
   ]
  },
  {
   "cell_type": "code",
   "execution_count": 218,
   "metadata": {},
   "outputs": [],
   "source": [
    "lista_nome = {}\n",
    "lista_apelido = {}\n",
    "lista_idade = {}\n",
    "lista_visita = {'visita':0}"
   ]
  },
  {
   "cell_type": "code",
   "execution_count": 173,
   "metadata": {},
   "outputs": [],
   "source": [
    "def menu():  # Menu\n",
    "    print ('\\n1-Cadastro | 2-Remover | 3-Editar | 4-Exibir | 5-Apagar Tudo | 6-Salvar | 7-Sair\\n')"
   ]
  },
  {
   "cell_type": "code",
   "execution_count": 174,
   "metadata": {},
   "outputs": [],
   "source": [
    "#def leitura(caminho):\n",
    "    #arquivo = open(caminho, 'r', encoding=\"utf8\")\n",
    "    # with open(caminho, 'r', encoding=\"utf8\") as arquivo"
   ]
  },
  {
   "cell_type": "code",
   "execution_count": 175,
   "metadata": {},
   "outputs": [],
   "source": [
    "def gravacao(nome, apelido, idade):  #  Cadastro !! Opção 1\n",
    "    for i in list(lista_visita.values()):\n",
    "        var = i + 1\n",
    "        lista_nome.update({var:nome})\n",
    "        lista_apelido.update({var:apelido})\n",
    "        lista_idade.update({var:idade})\n",
    "        lista_visita.update({'visita':var})  # contador de visita"
   ]
  },
  {
   "cell_type": "code",
   "execution_count": 220,
   "metadata": {},
   "outputs": [],
   "source": [
    "# TESTE\n",
    "\n",
    "gravacao('victor', 'bod', 26)\n",
    "gravacao('leandro', 'lele', 28)\n",
    "gravacao('patrick', 'bi', 24)"
   ]
  },
  {
   "cell_type": "code",
   "execution_count": 221,
   "metadata": {},
   "outputs": [
    {
     "name": "stdout",
     "output_type": "stream",
     "text": [
      "Nomes: dict_items([(1, 'victor'), (2, 'leandro'), (3, 'patrick')]) \n",
      "Apelido: dict_items([(1, 'bod'), (2, 'lele'), (3, 'bi')]) \n",
      "Idade dict_items([(1, 26), (2, 28), (3, 24)]) \n",
      "Visita: dict_items([('visita', 3)])\n"
     ]
    }
   ],
   "source": [
    "# TESTE\n",
    "print('Nomes:',lista_nome.items(),\n",
    "      '\\nApelido:',lista_apelido.items(),\n",
    "      '\\nIdade',lista_idade.items(), \n",
    "      '\\nVisita:',lista_visita.items()\n",
    "     )"
   ]
  },
  {
   "cell_type": "code",
   "execution_count": 224,
   "metadata": {},
   "outputs": [
    {
     "name": "stdout",
     "output_type": "stream",
     "text": [
      "3 1 4\n",
      "\n",
      "Registro: 1\n",
      "Nome: victor\n",
      "Apelido: bod\n",
      "Idade: 26\n",
      "__________________\n",
      "\n",
      "\n",
      "Registro: 2\n",
      "Nome: leandro\n",
      "Apelido: lele\n",
      "Idade: 28\n",
      "__________________\n",
      "\n",
      "\n",
      "Registro: 3\n",
      "Nome: patrick\n",
      "Apelido: bi\n",
      "Idade: 24\n",
      "__________________\n",
      "\n"
     ]
    }
   ],
   "source": [
    "def exibir():\n",
    "    nome_key = list(lista_nome.keys())\n",
    "    nome_val = list(lista_nome.values())\n",
    "    apelido_key = list(lista_apelido.keys())\n",
    "    apelido_val = list(lista_apelido.values())\n",
    "    idade_key = list(lista_idade.keys())\n",
    "    idade_val = list(lista_idade.values())\n",
    "    \n",
    "    for i in lista_visita.values():  # contabiliza quantos registros existe no DICT | te-Inicio | ta-Final\n",
    "        te = 1\n",
    "        ta = i + 1\n",
    "        print(i,te,ta) # teste observando\n",
    "        \n",
    "    for i in range(te,ta):  # percorre a quantidade de registro criado no DICT\n",
    "        if (i !=0):\n",
    "            try:\n",
    "                con_nome = nome_key.index(i)\n",
    "                con_apelido = apelido_key.index(i)\n",
    "                con_idade = idade_key.index(i)\n",
    "                print('\\nRegistro:',i)\n",
    "                print('Nome:', nome_val[con_nome])\n",
    "                print('Apelido:', apelido_val[con_apelido])\n",
    "                print('Idade:', idade_val[con_idade])\n",
    "                print('__________________\\n')\n",
    "                i = i + 1\n",
    "                \n",
    "            except:\n",
    "                print(\"Example 1\")\n",
    "            \n",
    "        else:\n",
    "            print('Registro Invalido!')\n",
    "            \n",
    "exibir()\n",
    "        "
   ]
  },
  {
   "cell_type": "code",
   "execution_count": null,
   "metadata": {},
   "outputs": [],
   "source": []
  },
  {
   "cell_type": "code",
   "execution_count": 131,
   "metadata": {},
   "outputs": [],
   "source": [
    "def limpar():  # OK\n",
    "    valid = int(input('Deseja Limpar Tudo?  1-SIM | 2-NÂO: '))\n",
    "    if valid == 1:\n",
    "        lista_nome.clear()\n",
    "        lista_apelido.clear()\n",
    "        lista_idade.clear()\n",
    "        lista_visita.clear()\n",
    "        lista_visita.update({'visita':0})\n",
    "        print('Limpo!')\n",
    "    else:\n",
    "        print('º~º')"
   ]
  },
  {
   "cell_type": "code",
   "execution_count": 132,
   "metadata": {},
   "outputs": [],
   "source": [
    "def edicao(registro):    #     OK              OP 3   \n",
    "    nome_key = list(lista_nome.keys())  #Key\n",
    "    nome_val = list(lista_nome.values())\n",
    "    apelido_key = list(lista_apelido.keys())  #Key\n",
    "    apelido_val = list(lista_apelido.values())\n",
    "    idade_key = list(lista_idade.keys())  #Key\n",
    "    idade_val = list(lista_idade.values())\n",
    "    \n",
    "    con_nome = nome_key.index(registro)\n",
    "    con_apelido = apelido_key.index(registro)\n",
    "    con_idade = idade_key.index(registro)\n",
    "    \n",
    "    print('\\nRegistro:',registro,'\\n')\n",
    "    print('Nome:', nome_val[con_nome])\n",
    "    print('Apelido:', apelido_val[con_apelido])\n",
    "    print('Idade:', idade_val[con_idade])\n",
    "    \n",
    "    valor = int(input('\\t1-Nome | 2-Apelido | 3-Idade | 4-Sair\\nOpcao: '))\n",
    "    \n",
    "    if valor == 1:\n",
    "        ed_nome = input('Nome: ')\n",
    "        lista_nome.update({registro:ed_nome})\n",
    "        print('\\nValor atualizado')\n",
    "        \n",
    "    elif valor == 2:\n",
    "        ed_apelido = input('Apelido: ')\n",
    "        lista_apelido.update({registro:ed_apelido})\n",
    "        print('\\nValor atualizado')\n",
    "        \n",
    "    elif valor == 3:\n",
    "        ed_idade = input('Idade: ')\n",
    "        lista_idade.update({registro:ed_idade})\n",
    "        print('\\nValor atualizado')\n",
    "            \n",
    "    elif valor == 4:\n",
    "        pass\n",
    "        \n",
    "    else:\n",
    "        print('Opçao invalida')\n",
    "    "
   ]
  },
  {
   "cell_type": "code",
   "execution_count": 184,
   "metadata": {},
   "outputs": [],
   "source": [
    "def remover(registro):       # OP 2          -------  OK FUNCIONANDO 05/12/2022\n",
    "    nome = 'Excluido'\n",
    "    apelido = 'Excluido'\n",
    "    idade = 'Excluido'\n",
    "    lista_nome.update({registro:nome})\n",
    "    lista_apelido.update({registro:apelido})\n",
    "    lista_idade.update({registro:idade})\n",
    "    print('Registro excluido!')"
   ]
  },
  {
   "cell_type": "code",
   "execution_count": 210,
   "metadata": {},
   "outputs": [
    {
     "ename": "KeyError",
     "evalue": "3",
     "output_type": "error",
     "traceback": [
      "\u001b[1;31m---------------------------------------------------------------------------\u001b[0m",
      "\u001b[1;31mKeyError\u001b[0m                                  Traceback (most recent call last)",
      "\u001b[1;32m<ipython-input-210-c9ae9f3c9b98>\u001b[0m in \u001b[0;36m<module>\u001b[1;34m\u001b[0m\n\u001b[0;32m     10\u001b[0m     \u001b[1;31m#nome_val = list(lista_nome.values())\u001b[0m\u001b[1;33m\u001b[0m\u001b[1;33m\u001b[0m\u001b[1;33m\u001b[0m\u001b[0m\n\u001b[0;32m     11\u001b[0m \u001b[1;33m\u001b[0m\u001b[0m\n\u001b[1;32m---> 12\u001b[1;33m \u001b[0mremover_teste\u001b[0m\u001b[1;33m(\u001b[0m\u001b[1;33m)\u001b[0m\u001b[1;33m\u001b[0m\u001b[1;33m\u001b[0m\u001b[0m\n\u001b[0m",
      "\u001b[1;32m<ipython-input-210-c9ae9f3c9b98>\u001b[0m in \u001b[0;36mremover_teste\u001b[1;34m()\u001b[0m\n\u001b[0;32m      1\u001b[0m \u001b[1;32mdef\u001b[0m \u001b[0mremover_teste\u001b[0m\u001b[1;33m(\u001b[0m\u001b[1;33m)\u001b[0m\u001b[1;33m:\u001b[0m    \u001b[1;31m# outra opção de remover que corrigi os Keys principal\u001b[0m\u001b[1;33m\u001b[0m\u001b[1;33m\u001b[0m\u001b[0m\n\u001b[0;32m      2\u001b[0m     \u001b[0mregistro\u001b[0m \u001b[1;33m=\u001b[0m \u001b[1;36m3\u001b[0m\u001b[1;33m\u001b[0m\u001b[1;33m\u001b[0m\u001b[0m\n\u001b[1;32m----> 3\u001b[1;33m     \u001b[0mlista_nome\u001b[0m\u001b[1;33m.\u001b[0m\u001b[0mpop\u001b[0m\u001b[1;33m(\u001b[0m\u001b[0mregistro\u001b[0m\u001b[1;33m)\u001b[0m  \u001b[1;31m#Key\u001b[0m\u001b[1;33m\u001b[0m\u001b[1;33m\u001b[0m\u001b[0m\n\u001b[0m\u001b[0;32m      4\u001b[0m     \u001b[0mlista_apelido\u001b[0m\u001b[1;33m.\u001b[0m\u001b[0mpop\u001b[0m\u001b[1;33m(\u001b[0m\u001b[0mregistro\u001b[0m\u001b[1;33m)\u001b[0m\u001b[1;33m\u001b[0m\u001b[1;33m\u001b[0m\u001b[0m\n\u001b[0;32m      5\u001b[0m     \u001b[0mlista_idade\u001b[0m\u001b[1;33m.\u001b[0m\u001b[0mpop\u001b[0m\u001b[1;33m(\u001b[0m\u001b[0mregistro\u001b[0m\u001b[1;33m)\u001b[0m\u001b[1;33m\u001b[0m\u001b[1;33m\u001b[0m\u001b[0m\n",
      "\u001b[1;31mKeyError\u001b[0m: 3"
     ]
    }
   ],
   "source": [
    "def remover_teste():    # outra opção de remover que corrigi os Keys principal\n",
    "    registro = 3\n",
    "    lista_nome.pop(registro)  #Key\n",
    "    lista_apelido.pop(registro)\n",
    "    lista_idade.pop(registro)\n",
    "    visita = list(lista_nome.values())\n",
    "    print(visita)\n",
    "    visita = visita -1\n",
    "    print(visita)\n",
    "    #nome_val = list(lista_nome.values())\n",
    "    \n",
    "remover_teste()"
   ]
  },
  {
   "cell_type": "raw",
   "metadata": {},
   "source": []
  },
  {
   "cell_type": "code",
   "execution_count": 375,
   "metadata": {},
   "outputs": [],
   "source": [
    "gravacao('vitor', 'lele', 28)"
   ]
  },
  {
   "cell_type": "code",
   "execution_count": null,
   "metadata": {},
   "outputs": [],
   "source": []
  },
  {
   "cell_type": "code",
   "execution_count": null,
   "metadata": {},
   "outputs": [],
   "source": [
    "def salvar(lista, arq):     #  OP 6             -------  verificar\n",
    "    arq += '.txt'\n",
    "    with open(arq, 'w') as arquivo:\n",
    "        for i in lista:\n",
    "            arquivo.write(str(i))\n",
    "        print('\\nArquivo Salvo\\n')"
   ]
  },
  {
   "cell_type": "code",
   "execution_count": 145,
   "metadata": {},
   "outputs": [
    {
     "name": "stdout",
     "output_type": "stream",
     "text": [
      "\n",
      "1-Cadastro | 2-Remover | 3-Editar | 4-Exibir | 5-Apagar Tudo | 6-Salvar | 7-Sair\n",
      "\n",
      "Opcao: 3\n",
      "Registro: 2\n",
      "\n",
      "Registro: 2 \n",
      "\n",
      "Nome: leandro\n",
      "Apelido: lele\n",
      "Idade: 28\n",
      "\t1-Nome | 2-Apelido | 3-Idade | 4-Sair\n",
      "Opcao: 4\n",
      "\n",
      "1-Cadastro | 2-Remover | 3-Editar | 4-Exibir | 5-Apagar Tudo | 6-Salvar | 7-Sair\n",
      "\n",
      "Opcao: 7\n"
     ]
    }
   ],
   "source": [
    "vv = True\n",
    "while vv:\n",
    "    menu()\n",
    "    opcao = (int(input('Opcao: ')))\n",
    "    \n",
    "    if opcao == 1:  # Cadastro\n",
    "        print('\\nCadastro: \\n')\n",
    "        gravacao(input('Nome: '), input('Apelido: '), input('Idade: '))\n",
    "            \n",
    "    elif opcao == 2:  # Remover da lista  pendete\n",
    "        exibir()\n",
    "        remover(input('Remover: '))\n",
    "\n",
    "    elif opcao == 3: # Editar valor da lista  OK\n",
    "        edicao(int(input('Registro: ')))\n",
    "\n",
    "    elif opcao == 4:   # exibe lista  OK\n",
    "        exibir()\n",
    "\n",
    "    elif opcao == 5:    # limpa lista  OK\n",
    "        limpar()\n",
    "        \n",
    "    elif opcao == 6:   # Salvar Documentos cria o arquivo .txt   *** pendete\n",
    "        salvar(input('Novo do arquivo: '))\n",
    "        \n",
    "    elif opcao == 8:   # abrindo arquivo txt       ***   pendete\n",
    "        print('tetse')\n",
    "        \n",
    "    elif opcao == 7:   # sair do laço\n",
    "        vv = False\n",
    "        \n",
    "    else:\n",
    "        print('\\nSelecione uma opção valida!')\n",
    "        \n",
    "        "
   ]
  },
  {
   "cell_type": "code",
   "execution_count": null,
   "metadata": {},
   "outputs": [],
   "source": []
  },
  {
   "cell_type": "raw",
   "metadata": {},
   "source": []
  },
  {
   "cell_type": "code",
   "execution_count": null,
   "metadata": {},
   "outputs": [],
   "source": []
  },
  {
   "cell_type": "code",
   "execution_count": null,
   "metadata": {},
   "outputs": [],
   "source": []
  }
 ],
 "metadata": {
  "kernelspec": {
   "display_name": "Python 3 (ipykernel)",
   "language": "python",
   "name": "python3"
  },
  "language_info": {
   "codemirror_mode": {
    "name": "ipython",
    "version": 3
   },
   "file_extension": ".py",
   "mimetype": "text/x-python",
   "name": "python",
   "nbconvert_exporter": "python",
   "pygments_lexer": "ipython3",
   "version": "3.9.12"
  }
 },
 "nbformat": 4,
 "nbformat_minor": 2
}
